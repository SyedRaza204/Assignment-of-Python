{
  "nbformat": 4,
  "nbformat_minor": 0,
  "metadata": {
    "colab": {
      "name": "Assignment2.ipynb",
      "version": "0.3.2",
      "provenance": [],
      "include_colab_link": true
    },
    "kernelspec": {
      "display_name": "Python 3",
      "language": "python",
      "name": "python3"
    }
  },
  "cells": [
    {
      "cell_type": "markdown",
      "metadata": {
        "id": "view-in-github",
        "colab_type": "text"
      },
      "source": [
        "[View in Colaboratory](https://colab.research.google.com/github/SyedRaza204/Assignment-of-Python/blob/master/Assignment2.ipynb)"
      ]
    },
    {
      "metadata": {
        "id": "vWQ6WiNIjNqo",
        "colab_type": "code",
        "colab": {}
      },
      "cell_type": "code",
      "source": [
        "# %load assignment2.py"
      ],
      "execution_count": 0,
      "outputs": []
    },
    {
      "metadata": {
        "id": "ER0zEvQnjNrJ",
        "colab_type": "code",
        "colab": {
          "base_uri": "https://localhost:8080/",
          "height": 300
        },
        "outputId": "2997589c-1cca-40cf-f11b-9ef7f74b3e4e"
      },
      "cell_type": "code",
      "source": [
        "# D. verbing\n",
        "# Given a string, if its length is at least 3,\n",
        "# add 'ing' to its end.\n",
        "# Unless it already ends in 'ing', in which case\n",
        "# add 'ly' instead.\n",
        "# If the string length is less than 3, leave it unchanged.\n",
        "# Return the resulting string.\n",
        "def verbing(s):\n",
        "  # +++your code here+++\n",
        "  if len(s)<3:\n",
        "    return s\n",
        "  else:\n",
        "    if s[-3:]=='ing':\n",
        "      s = s+ 'ly'\n",
        "    else:\n",
        "      s = s + 'ing'\n",
        "  \n",
        "  return s\n",
        "\n",
        "\n",
        "# E. not_bad\n",
        "# Given a string, find the first appearance of the\n",
        "# substring 'not' and 'bad'. If the 'bad' follows\n",
        "# the 'not', replace the whole 'not'...'bad' substring\n",
        "# with 'good'.\n",
        "# Return the resulting string.\n",
        "# So 'This dinner is not that bad!' yields:\n",
        "# This dinner is good!\n",
        "def not_bad(s):\n",
        "  # +++your code here+++\n",
        "  n = s.find('not')\n",
        "  b = s.find('bad')\n",
        "\n",
        "  if b > n:\n",
        "    s = s.replace(s[n:(b+3)], 'good')\n",
        "  return s\n",
        "\n",
        "\n",
        "# F. front_back\n",
        "# Consider dividing a string into two halves.\n",
        "# If the length is even, the front and back halves are the same length.\n",
        "# If the length is odd, we'll say that the extra char goes in the front half.\n",
        "# e.g. 'abcde', the front half is 'abc', the back half 'de'.\n",
        "# Given 2 strings, a and b, return a string of the form\n",
        "#  a-front + b-front + a-back + b-back\n",
        "def front_back(a, b):\n",
        "  alength = len(a)\n",
        "  blength = len(b)\n",
        "\n",
        "  if alength % 2 == 0:\n",
        "    aindex = alength // 2\n",
        "  else:\n",
        "    aindex = (alength // 2) + 1\n",
        "\n",
        "  if blength % 2 == 0:\n",
        "    bindex = blength // 2\n",
        "  else:\n",
        "    bindex = (blength // 2) + 1\n",
        "\n",
        "  afront = a[0:aindex]\n",
        "  aback = a[aindex:]\n",
        "\n",
        "  bfront = b[0:bindex]\n",
        "  bback = b[bindex:]\n",
        "\n",
        "  return afront + bfront + aback + bback\n",
        "\n",
        "# Simple provided test() function used in main() to print\n",
        "# what each function returns vs. what it's supposed to return.\n",
        "def test(got, expected):\n",
        "    if got == expected:\n",
        "        prefix = ' OK '\n",
        "    else:\n",
        "        prefix = '  X '\n",
        "    print ('%s got: %s expected: %s' % (prefix, repr(got), repr(expected)))\n",
        "    \n",
        "# main() calls the above functions with interesting inputs,\n",
        "# using the above test() to check if the result is correct or not.\n",
        "def main():\n",
        "    print ('verbing')\n",
        "    test(verbing('hail'), 'hailing')\n",
        "    test(verbing('swiming'), 'swimingly')\n",
        "    test(verbing('do'), 'do')\n",
        "    print()\n",
        "    print ('not_bad')\n",
        "    test(not_bad('This movie is not so bad'), 'This movie is good')\n",
        "    test(not_bad('This dinner is not that bad!'), 'This dinner is good!')\n",
        "    test(not_bad('This tea is not hot'), 'This tea is not hot')\n",
        "    test(not_bad(\"It's bad yet not\"), \"It's bad yet not\")\n",
        "\n",
        "    print()\n",
        "    print ('front_back')\n",
        "    test(front_back('abcd', 'xy'), 'abxcdy')\n",
        "    test(front_back('abcde', 'xyz'), 'abcxydez')\n",
        "    test(front_back('Kitten', 'Donut'), 'KitDontenut')\n",
        "\n",
        "if __name__ == '__main__':\n",
        "  main()\n"
      ],
      "execution_count": 16,
      "outputs": [
        {
          "output_type": "stream",
          "text": [
            "verbing\n",
            " OK  got: 'hailing' expected: 'hailing'\n",
            " OK  got: 'swimingly' expected: 'swimingly'\n",
            " OK  got: 'do' expected: 'do'\n",
            "\n",
            "not_bad\n",
            " OK  got: 'This movie is good' expected: 'This movie is good'\n",
            " OK  got: 'This dinner is good!' expected: 'This dinner is good!'\n",
            " OK  got: 'This tea is not hot' expected: 'This tea is not hot'\n",
            " OK  got: \"It's bad yet not\" expected: \"It's bad yet not\"\n",
            "\n",
            "front_back\n",
            " OK  got: 'abxcdy' expected: 'abxcdy'\n",
            " OK  got: 'abcxydez' expected: 'abcxydez'\n",
            " OK  got: 'KitDontenut' expected: 'KitDontenut'\n"
          ],
          "name": "stdout"
        }
      ]
    },
    {
      "metadata": {
        "id": "Rupf6B3GjNro",
        "colab_type": "code",
        "colab": {}
      },
      "cell_type": "code",
      "source": [
        ""
      ],
      "execution_count": 0,
      "outputs": []
    }
  ]
}