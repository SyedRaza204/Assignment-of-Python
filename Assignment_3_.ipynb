{
  "nbformat": 4,
  "nbformat_minor": 0,
  "metadata": {
    "colab": {
      "name": "Assignment_3..ipynb",
      "version": "0.3.2",
      "provenance": [],
      "include_colab_link": true
    },
    "kernelspec": {
      "display_name": "Python 3",
      "language": "python",
      "name": "python3"
    }
  },
  "cells": [
    {
      "cell_type": "markdown",
      "metadata": {
        "id": "view-in-github",
        "colab_type": "text"
      },
      "source": [
        "[View in Colaboratory](https://colab.research.google.com/github/SyedRaza204/Assignment-of-Python/blob/master/Assignment_3_.ipynb)"
      ]
    },
    {
      "metadata": {
        "id": "vqpz9EiSTi8i",
        "colab_type": "text"
      },
      "cell_type": "markdown",
      "source": [
        "<h3>Q no 1 : you have some strings in variable text your task is to make a list of capital letters only using list comprehension and print that list</h3>\n",
        "<h4>Hint! explore isUpper() method then do this</h4>"
      ]
    },
    {
      "metadata": {
        "id": "xiQQSnYJTi8q",
        "colab_type": "code",
        "colab": {
          "base_uri": "https://localhost:8080/",
          "height": 36
        },
        "outputId": "125336c7-12ab-4a72-f6d3-80be70b8921a"
      },
      "cell_type": "code",
      "source": [
        "text = \"Relax All Zombies Architectures\"\n",
        "upper = [a for a in text if a.isupper()]\n",
        "upper"
      ],
      "execution_count": 0,
      "outputs": [
        {
          "output_type": "execute_result",
          "data": {
            "text/plain": [
              "['R', 'A', 'Z', 'A']"
            ]
          },
          "metadata": {
            "tags": []
          },
          "execution_count": 3
        }
      ]
    },
    {
      "metadata": {
        "id": "uCCAFvg9Ti8-",
        "colab_type": "text"
      },
      "cell_type": "markdown",
      "source": [
        "<h3>Q no 2: Make a list of numbers from 0 to 20 which is divisible by 2 using list comprehension</h3>"
      ]
    },
    {
      "metadata": {
        "id": "yWidxIYFTi9C",
        "colab_type": "code",
        "colab": {
          "base_uri": "https://localhost:8080/",
          "height": 36
        },
        "outputId": "a5046f40-a216-4498-8ef0-265cc8bedbe8"
      },
      "cell_type": "code",
      "source": [
        "list = [a for a in range(0,21,2)]\n",
        "print (list)"
      ],
      "execution_count": 0,
      "outputs": [
        {
          "output_type": "stream",
          "text": [
            "[0, 2, 4, 6, 8, 10, 12, 14, 16, 18, 20]\n"
          ],
          "name": "stdout"
        }
      ]
    },
    {
      "metadata": {
        "id": "QtWdxIVwTi9T",
        "colab_type": "code",
        "colab": {}
      },
      "cell_type": "code",
      "source": [
        ""
      ],
      "execution_count": 0,
      "outputs": []
    },
    {
      "metadata": {
        "id": "FcOTbbNPTi9r",
        "colab_type": "code",
        "colab": {}
      },
      "cell_type": "code",
      "source": [
        ""
      ],
      "execution_count": 0,
      "outputs": []
    },
    {
      "metadata": {
        "id": "a_m1_jEqTi95",
        "colab_type": "text"
      },
      "cell_type": "markdown",
      "source": [
        "<h3>Q no 3 : Find all of the numbers from 1-1000 that are divisible by 7 by making a list using list comprehension and print it</h3>"
      ]
    },
    {
      "metadata": {
        "id": "3r00X2WMTi9-",
        "colab_type": "code",
        "colab": {
          "base_uri": "https://localhost:8080/",
          "height": 56
        },
        "outputId": "72cf2f34-286f-4d19-fe6b-816c5d1c8f61"
      },
      "cell_type": "code",
      "source": [
        "list1 = [a for a in range(0,1000,7)]\n",
        "print(list1)"
      ],
      "execution_count": 0,
      "outputs": [
        {
          "output_type": "stream",
          "text": [
            "[0, 7, 14, 21, 28, 35, 42, 49, 56, 63, 70, 77, 84, 91, 98, 105, 112, 119, 126, 133, 140, 147, 154, 161, 168, 175, 182, 189, 196, 203, 210, 217, 224, 231, 238, 245, 252, 259, 266, 273, 280, 287, 294, 301, 308, 315, 322, 329, 336, 343, 350, 357, 364, 371, 378, 385, 392, 399, 406, 413, 420, 427, 434, 441, 448, 455, 462, 469, 476, 483, 490, 497, 504, 511, 518, 525, 532, 539, 546, 553, 560, 567, 574, 581, 588, 595, 602, 609, 616, 623, 630, 637, 644, 651, 658, 665, 672, 679, 686, 693, 700, 707, 714, 721, 728, 735, 742, 749, 756, 763, 770, 777, 784, 791, 798, 805, 812, 819, 826, 833, 840, 847, 854, 861, 868, 875, 882, 889, 896, 903, 910, 917, 924, 931, 938, 945, 952, 959, 966, 973, 980, 987, 994]\n"
          ],
          "name": "stdout"
        }
      ]
    },
    {
      "metadata": {
        "id": "C7N4w-3KTi-N",
        "colab_type": "text"
      },
      "cell_type": "markdown",
      "source": [
        "<h3>Q no 4 : Count the number of spaces in a string below using list comprehension and print the result</h3>"
      ]
    },
    {
      "metadata": {
        "id": "AhUAapvzTi-U",
        "colab_type": "code",
        "colab": {
          "base_uri": "https://localhost:8080/",
          "height": 36
        },
        "outputId": "31db6a15-12b6-4b87-eb7d-d9ca99bafc42"
      },
      "cell_type": "code",
      "source": [
        "text = \"What a lovely weather hope everyone Enjoing it\"\n",
        "space = [a for a in text if a==\" \" ]\n",
        "print(\"there are \", len(space) ,\" spaces in above string\")"
      ],
      "execution_count": 0,
      "outputs": [
        {
          "output_type": "stream",
          "text": [
            "there are  7  spaces in above string\n"
          ],
          "name": "stdout"
        }
      ]
    },
    {
      "metadata": {
        "id": "teQ9V-KZTi-p",
        "colab_type": "text"
      },
      "cell_type": "markdown",
      "source": [
        "<h3>Q no 5 : Write a script that draws a triangle as below:</h3>"
      ]
    },
    {
      "metadata": {
        "id": "_fLk2J15ZOSi",
        "colab_type": "code",
        "colab": {
          "base_uri": "https://localhost:8080/",
          "height": 470
        },
        "outputId": "5ec5c195-8775-4d04-f285-8f0b2f8f1a03"
      },
      "cell_type": "code",
      "source": [
        "for a in range(1,13):\n",
        "  for b in range(1,a):\n",
        "    print(\"*\",end=' ' )\n",
        "  print(\"\\n\")  \n",
        "  "
      ],
      "execution_count": 0,
      "outputs": [
        {
          "output_type": "stream",
          "text": [
            "\n",
            "\n",
            "* \n",
            "\n",
            "* * \n",
            "\n",
            "* * * \n",
            "\n",
            "* * * * \n",
            "\n",
            "* * * * * \n",
            "\n",
            "* * * * * * \n",
            "\n",
            "* * * * * * * \n",
            "\n",
            "* * * * * * * * \n",
            "\n",
            "* * * * * * * * * \n",
            "\n",
            "* * * * * * * * * * \n",
            "\n",
            "* * * * * * * * * * * \n",
            "\n"
          ],
          "name": "stdout"
        }
      ]
    },
    {
      "metadata": {
        "id": "isuNBxlITi-4",
        "colab_type": "text"
      },
      "cell_type": "markdown",
      "source": [
        "<h3>Q no 6 : Write a script that draws a geometric shape as below:</h3>"
      ]
    },
    {
      "metadata": {
        "id": "13KadwRtb3JC",
        "colab_type": "code",
        "colab": {
          "base_uri": "https://localhost:8080/",
          "height": 470
        },
        "outputId": "da804718-3b2d-4d17-c916-f0efa6a817ab"
      },
      "cell_type": "code",
      "source": [
        "for x in range(1,7):\n",
        "    for y in range(1,x):\n",
        "        print(\"*\", end=' ', flush=True)\n",
        "    print('\\n')  \n",
        "for x in range(7,1,-1):\n",
        "    for y in range(1,x):\n",
        "        print(\"*\", end=' ', flush=True)\n",
        "    print('\\n')"
      ],
      "execution_count": 0,
      "outputs": [
        {
          "output_type": "stream",
          "text": [
            "\n",
            "\n",
            "* \n",
            "\n",
            "* * \n",
            "\n",
            "* * * \n",
            "\n",
            "* * * * \n",
            "\n",
            "* * * * * \n",
            "\n",
            "* * * * * * \n",
            "\n",
            "* * * * * \n",
            "\n",
            "* * * * \n",
            "\n",
            "* * * \n",
            "\n",
            "* * \n",
            "\n",
            "* \n",
            "\n"
          ],
          "name": "stdout"
        }
      ]
    },
    {
      "metadata": {
        "id": "I8pr2owoTi_A",
        "colab_type": "text"
      },
      "cell_type": "markdown",
      "source": [
        "<h3>Q no 7 :Find all of the words in a string that are less than 4 letters using list comprehension</h3>"
      ]
    },
    {
      "metadata": {
        "id": "UkSL1tqnTi_L",
        "colab_type": "code",
        "colab": {
          "base_uri": "https://localhost:8080/",
          "height": 36
        },
        "outputId": "4c2345e0-56a4-4bf1-bf4f-47fb4647155a"
      },
      "cell_type": "code",
      "source": [
        "text = \"Assignment num three is completed \"\n",
        "list = [a for a in text.split(\" \") if len(a)<4]\n",
        "list"
      ],
      "execution_count": 0,
      "outputs": [
        {
          "output_type": "execute_result",
          "data": {
            "text/plain": [
              "['num', 'is', '']"
            ]
          },
          "metadata": {
            "tags": []
          },
          "execution_count": 28
        }
      ]
    },
    {
      "metadata": {
        "id": "IQBngawhTi_d",
        "colab_type": "code",
        "colab": {}
      },
      "cell_type": "code",
      "source": [
        ""
      ],
      "execution_count": 0,
      "outputs": []
    },
    {
      "metadata": {
        "id": "VRi4R1_0Ti_4",
        "colab_type": "code",
        "colab": {}
      },
      "cell_type": "code",
      "source": [
        ""
      ],
      "execution_count": 0,
      "outputs": []
    },
    {
      "metadata": {
        "id": "7KmMvMDLTjAH",
        "colab_type": "code",
        "colab": {}
      },
      "cell_type": "code",
      "source": [
        ""
      ],
      "execution_count": 0,
      "outputs": []
    }
  ]
}